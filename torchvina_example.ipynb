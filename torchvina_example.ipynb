{
 "cells": [
  {
   "cell_type": "code",
   "execution_count": 1,
   "id": "b4619625",
   "metadata": {},
   "outputs": [
    {
     "name": "stderr",
     "output_type": "stream",
     "text": [
      "/scratch/micromamba/envs/gc-pl/lib/python3.10/site-packages/tqdm/auto.py:21: TqdmWarning: IProgress not found. Please update jupyter and ipywidgets. See https://ipywidgets.readthedocs.io/en/stable/user_install.html\n",
      "  from .autonotebook import tqdm as notebook_tqdm\n"
     ]
    }
   ],
   "source": [
    "import os\n",
    "from rdkit import Chem\n",
    "\n",
    "from scoring.torchvina import TorchVinaScore"
   ]
  },
  {
   "cell_type": "markdown",
   "id": "ebb791ec",
   "metadata": {},
   "source": [
    "### Initialize ligand and receptor"
   ]
  },
  {
   "cell_type": "code",
   "execution_count": 2,
   "id": "865a3ebf",
   "metadata": {},
   "outputs": [],
   "source": [
    "ligand = [Chem.SDMolSupplier('./data/14gs_cbd/14gs_A_rec_20gs_cbd_lig_tt_min_0.sdf')[0]]\n",
    "rec_pdbqt = './data/14gs_cbd/14gs_A_rec_20gs_cbd_lig_tt_min_0_pocket10_Hs.pdbqt'"
   ]
  },
  {
   "cell_type": "markdown",
   "id": "07e5986d",
   "metadata": {},
   "source": [
    "### Score with torchvina"
   ]
  },
  {
   "cell_type": "code",
   "execution_count": 3,
   "id": "d3ec01c6",
   "metadata": {},
   "outputs": [
    {
     "name": "stdout",
     "output_type": "stream",
     "text": [
      "\t mean gauss1: 0.9535354375839233\n",
      "\t mean gauss2: 23.765369415283203\n",
      "\t mean repulsion: 0.7275260090827942\n",
      "\t mean hydrophobic: 0.0\n",
      "\t mean hydrogen: 1.6986560821533203\n",
      "\n",
      "\t mean gauss1: 50.19076919555664\n",
      "\t mean gauss2: 844.9055786132812\n",
      "\t mean repulsion: 1.293182611465454\n",
      "\t mean hydrophobic: 33.037742614746094\n",
      "\t mean hydrogen: 1.6089773178100586\n",
      "\n",
      "\t mean intra: -0.543016791343689\n",
      "\t mean inter: -6.763842582702637\n",
      "\t mean total: -7.306859493255615\n",
      "\n"
     ]
    },
    {
     "name": "stderr",
     "output_type": "stream",
     "text": [
      "/scratch/micromamba/envs/gc-pl/lib/python3.10/site-packages/MDAnalysis/topology/guessers.py:146: UserWarning: Failed to guess the mass for the following atom types: A\n",
      "  warnings.warn(\"Failed to guess the mass for the following atom types: {}\".format(atom_type))\n",
      "/scratch/micromamba/envs/gc-pl/lib/python3.10/site-packages/MDAnalysis/topology/guessers.py:146: UserWarning: Failed to guess the mass for the following atom types: HD\n",
      "  warnings.warn(\"Failed to guess the mass for the following atom types: {}\".format(atom_type))\n",
      "/scratch/micromamba/envs/gc-pl/lib/python3.10/site-packages/MDAnalysis/topology/guessers.py:146: UserWarning: Failed to guess the mass for the following atom types: OA\n",
      "  warnings.warn(\"Failed to guess the mass for the following atom types: {}\".format(atom_type))\n",
      "/scratch/micromamba/envs/gc-pl/lib/python3.10/site-packages/MDAnalysis/topology/guessers.py:146: UserWarning: Failed to guess the mass for the following atom types: SA\n",
      "  warnings.warn(\"Failed to guess the mass for the following atom types: {}\".format(atom_type))\n"
     ]
    },
    {
     "data": {
      "text/plain": [
       "tensor([-7.3069])"
      ]
     },
     "execution_count": 3,
     "metadata": {},
     "output_type": "execute_result"
    }
   ],
   "source": [
    "vina_scorer = TorchVinaScore(rec_pdbqt, verbose=True)\n",
    "vina_scorer.score(ligand)"
   ]
  },
  {
   "cell_type": "markdown",
   "id": "13c4c416",
   "metadata": {},
   "source": [
    "### Validate with smina that score is correct"
   ]
  },
  {
   "cell_type": "code",
   "execution_count": 4,
   "id": "2c37b9bc",
   "metadata": {},
   "outputs": [
    {
     "name": "stdout",
     "output_type": "stream",
     "text": [
      "   _______  _______ _________ _        _______ \n",
      "  (  ____ \\(       )\\__   __/( (    /|(  ___  )\n",
      "  | (    \\/| () () |   ) (   |  \\  ( || (   ) |\n",
      "  | (_____ | || || |   | |   |   \\ | || (___) |\n",
      "  (_____  )| |(_)| |   | |   | (\\ \\) ||  ___  |\n",
      "        ) || |   | |   | |   | | \\   || (   ) |\n",
      "  /\\____) || )   ( |___) (___| )  \\  || )   ( |\n",
      "  \\_______)|/     \\|\\_______/|/    )_)|/     \\|\n",
      "\n",
      "\n",
      "smina is based off AutoDock Vina. Please cite appropriately.\n",
      "\n",
      "Weights      Terms\n",
      "-0.035579    gauss(o=0,_w=0.5,_c=8)\n",
      "-0.005156    gauss(o=3,_w=2,_c=8)\n",
      "0.840245     repulsion(o=0,_c=8)\n",
      "-0.035069    hydrophobic(g=0.5,_b=1.5,_c=8)\n",
      "-0.587439    non_dir_h_bond(g=-0.7,_b=0,_c=8)\n",
      "1.923        num_tors_div\n",
      "\n",
      "## Name gauss(o=0,_w=0.5,_c=8) gauss(o=3,_w=2,_c=8) repulsion(o=0,_c=8) hydrophobic(g=0.5,_b=1.5,_c=8) non_dir_h_bond(g=-0.7,_b=0,_c=8) num_tors_div\n",
      "Affinity: -6.76385 (kcal/mol)\n",
      "Intramolecular energy: -0.54302\n",
      "Term values, before weighting:\n",
      "## __14gs_A_rec_20gs_cbd_lig_min.pdb 50.19061 844.90643 1.29313 33.03773 1.60891 0.00000\n",
      "Refine time 0.00040\n",
      "Loop time 0.00366\n"
     ]
    }
   ],
   "source": [
    "!(./smina.static \\\n",
    "  -r data/14gs_cbd/14gs_A_rec_20gs_cbd_lig_tt_min_0_pocket10_Hs.pdbqt \\\n",
    "  -l data/14gs_cbd/14gs_A_rec_20gs_cbd_lig_tt_min_0.sdf \\\n",
    "  --score_only)"
   ]
  },
  {
   "cell_type": "markdown",
   "id": "7f0f8c4c",
   "metadata": {},
   "source": [
    "### Torchvina can score multiple ligands at the same time"
   ]
  },
  {
   "cell_type": "code",
   "execution_count": 5,
   "id": "bde9876f",
   "metadata": {},
   "outputs": [
    {
     "name": "stdout",
     "output_type": "stream",
     "text": [
      "\t mean gauss1: 2.1691970825195312\n",
      "\t mean gauss2: 34.205482482910156\n",
      "\t mean repulsion: 0.44426798820495605\n",
      "\t mean hydrophobic: 2.4676899909973145\n",
      "\t mean hydrogen: 0.849306583404541\n",
      "\n",
      "\t mean gauss1: 25.09538459777832\n",
      "\t mean gauss2: 422.4527893066406\n",
      "\t mean repulsion: 0.646591305732727\n",
      "\t mean hydrophobic: 16.518871307373047\n",
      "\t mean hydrogen: 0.8044886589050293\n",
      "\n",
      "\t mean intra: -0.4657025933265686\n",
      "\t mean inter: -3.3819212913513184\n",
      "\t mean total: -3.847623825073242\n",
      "\n"
     ]
    },
    {
     "data": {
      "text/plain": [
       "tensor([-7.3069, -0.3884])"
      ]
     },
     "execution_count": 5,
     "metadata": {},
     "output_type": "execute_result"
    }
   ],
   "source": [
    "ligands = [Chem.SDMolSupplier('./data/14gs_cbd/14gs_A_rec_20gs_cbd_lig_tt_min_0.sdf')[0],\n",
    "           Chem.SDMolSupplier('./data/2azy_chd/2azy_A_rec_2azy_chd_lig_tt_docked_0.sdf')[0],]\n",
    "vina_scorer.score(ligands)"
   ]
  },
  {
   "cell_type": "markdown",
   "id": "de077b99",
   "metadata": {},
   "source": [
    "### Using vinardo in Torchvina"
   ]
  },
  {
   "cell_type": "code",
   "execution_count": 7,
   "id": "070a0d0d",
   "metadata": {},
   "outputs": [
    {
     "name": "stdout",
     "output_type": "stream",
     "text": [
      "\t mean gauss1: 2.9672608375549316\n",
      "\t mean gauss2: 24.018136978149414\n",
      "\t mean repulsion: 0.3319023847579956\n",
      "\t mean hydrophobic: 0.0\n",
      "\t mean hydrogen: 1.3150990009307861\n",
      "\n",
      "\t mean gauss1: 87.11620330810547\n",
      "\t mean gauss2: 840.8512573242188\n",
      "\t mean repulsion: 1.0060478448867798\n",
      "\t mean hydrophobic: 73.5799560546875\n",
      "\t mean hydrogen: 0.8771402835845947\n",
      "\n",
      "\t mean intra: -0.6570643186569214\n",
      "\t mean inter: -6.095071792602539\n",
      "\t mean total: -6.75213623046875\n",
      "\n"
     ]
    },
    {
     "data": {
      "text/plain": [
       "tensor([-6.7521])"
      ]
     },
     "execution_count": 7,
     "metadata": {},
     "output_type": "execute_result"
    }
   ],
   "source": [
    "vina_scorer = TorchVinaScore(rec_pdbqt, vinardo=True, verbose=True)\n",
    "vina_scorer.score([Chem.SDMolSupplier('./data/14gs_cbd/14gs_A_rec_20gs_cbd_lig_tt_min_0.sdf')[0]])"
   ]
  },
  {
   "cell_type": "markdown",
   "id": "10b92a6e",
   "metadata": {},
   "source": [
    "### Validate with smina"
   ]
  },
  {
   "cell_type": "code",
   "execution_count": 8,
   "id": "85d474e4",
   "metadata": {},
   "outputs": [
    {
     "name": "stdout",
     "output_type": "stream",
     "text": [
      "   _______  _______ _________ _        _______ \n",
      "  (  ____ \\(       )\\__   __/( (    /|(  ___  )\n",
      "  | (    \\/| () () |   ) (   |  \\  ( || (   ) |\n",
      "  | (_____ | || || |   | |   |   \\ | || (___) |\n",
      "  (_____  )| |(_)| |   | |   | (\\ \\) ||  ___  |\n",
      "        ) || |   | |   | |   | | \\   || (   ) |\n",
      "  /\\____) || )   ( |___) (___| )  \\  || )   ( |\n",
      "  \\_______)|/     \\|\\_______/|/    )_)|/     \\|\n",
      "\n",
      "\n",
      "smina is based off AutoDock Vina. Please cite appropriately.\n",
      "\n",
      "Weights      Terms\n",
      "-0.045       gauss(o=0,_w=0.8,_c=8)\n",
      "0.8          repulsion(o=0,_c=8)\n",
      "-0.035       hydrophobic(g=0,_b=2.5,_c=8)\n",
      "-0.6         non_dir_h_bond(g=-0.6,_b=0,_c=8)\n",
      "0            num_tors_div\n",
      "\n",
      "## Name gauss(o=0,_w=0.8,_c=8) repulsion(o=0,_c=8) hydrophobic(g=0,_b=2.5,_c=8) non_dir_h_bond(g=-0.6,_b=0,_c=8) num_tors_div\n",
      "Affinity: -6.09505 (kcal/mol)\n",
      "Intramolecular energy: -0.65706\n",
      "Term values, before weighting:\n",
      "## __14gs_A_rec_20gs_cbd_lig_min.pdb 87.11593 1.00601 73.57989 0.87706 0.00000\n",
      "Refine time 0.00037\n",
      "Loop time 0.00388\n"
     ]
    }
   ],
   "source": [
    "!(./smina.static \\\n",
    "  -r data/14gs_cbd/14gs_A_rec_20gs_cbd_lig_tt_min_0_pocket10_Hs.pdbqt \\\n",
    "  -l data/14gs_cbd/14gs_A_rec_20gs_cbd_lig_tt_min_0.sdf \\\n",
    "  --score_only \\\n",
    "  --scoring vinardo)"
   ]
  }
 ],
 "metadata": {
  "kernelspec": {
   "display_name": "gc-pl_kernel",
   "language": "python",
   "name": "gc-pl_kernel"
  },
  "language_info": {
   "codemirror_mode": {
    "name": "ipython",
    "version": 3
   },
   "file_extension": ".py",
   "mimetype": "text/x-python",
   "name": "python",
   "nbconvert_exporter": "python",
   "pygments_lexer": "ipython3",
   "version": "3.10.14"
  }
 },
 "nbformat": 4,
 "nbformat_minor": 5
}
