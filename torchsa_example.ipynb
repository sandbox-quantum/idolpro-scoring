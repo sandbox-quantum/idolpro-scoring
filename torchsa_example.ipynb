{
 "cells": [
  {
   "cell_type": "code",
   "execution_count": 1,
   "id": "82486403",
   "metadata": {},
   "outputs": [
    {
     "name": "stderr",
     "output_type": "stream",
     "text": [
      "/home/amit_kadan/git_repos/idolpro_scoring_modules/ocp/ocpmodels/models/equiformer_v2/wigner.py:8: FutureWarning: You are using `torch.load` with `weights_only=False` (the current default value), which uses the default pickle module implicitly. It is possible to construct malicious pickle data which will execute arbitrary code during unpickling (See https://github.com/pytorch/pytorch/blob/main/SECURITY.md#untrusted-models for more details). In a future release, the default value for `weights_only` will be flipped to `True`. This limits the functions that could be executed during unpickling. Arbitrary objects will no longer be allowed to be loaded via this mode unless they are explicitly allowlisted by the user via `torch.serialization.add_safe_globals`. We recommend you start setting `weights_only=True` for any use case where you don't have full control of the loaded file. Please open an issue on GitHub for any issues related to this experimental feature.\n",
      "  _Jd = torch.load(os.path.join(os.path.dirname(__file__), \"Jd.pt\"))\n",
      "/home/amit_kadan/git_repos/idolpro_scoring_modules/ocp/ocpmodels/models/equiformer_v2/layer_norm.py:75: FutureWarning: `torch.cuda.amp.autocast(args...)` is deprecated. Please use `torch.amp.autocast('cuda', args...)` instead.\n",
      "  @torch.cuda.amp.autocast(enabled=False)\n",
      "/home/amit_kadan/git_repos/idolpro_scoring_modules/ocp/ocpmodels/models/equiformer_v2/layer_norm.py:187: FutureWarning: `torch.cuda.amp.autocast(args...)` is deprecated. Please use `torch.amp.autocast('cuda', args...)` instead.\n",
      "  @torch.cuda.amp.autocast(enabled=False)\n",
      "/home/amit_kadan/git_repos/idolpro_scoring_modules/ocp/ocpmodels/models/equiformer_v2/layer_norm.py:286: FutureWarning: `torch.cuda.amp.autocast(args...)` is deprecated. Please use `torch.amp.autocast('cuda', args...)` instead.\n",
      "  @torch.cuda.amp.autocast(enabled=False)\n",
      "/home/amit_kadan/git_repos/idolpro_scoring_modules/ocp/ocpmodels/models/equiformer_v2/layer_norm.py:389: FutureWarning: `torch.cuda.amp.autocast(args...)` is deprecated. Please use `torch.amp.autocast('cuda', args...)` instead.\n",
      "  @torch.cuda.amp.autocast(enabled=False)\n",
      "/home/amit_kadan/git_repos/idolpro_scoring_modules/ocp/ocpmodels/models/escn/so3.py:22: FutureWarning: You are using `torch.load` with `weights_only=False` (the current default value), which uses the default pickle module implicitly. It is possible to construct malicious pickle data which will execute arbitrary code during unpickling (See https://github.com/pytorch/pytorch/blob/main/SECURITY.md#untrusted-models for more details). In a future release, the default value for `weights_only` will be flipped to `True`. This limits the functions that could be executed during unpickling. Arbitrary objects will no longer be allowed to be loaded via this mode unless they are explicitly allowlisted by the user via `torch.serialization.add_safe_globals`. We recommend you start setting `weights_only=True` for any use case where you don't have full control of the loaded file. Please open an issue on GitHub for any issues related to this experimental feature.\n",
      "  _Jd = torch.load(os.path.join(os.path.dirname(__file__), \"Jd.pt\"))\n",
      "/home/amit_kadan/git_repos/idolpro_scoring_modules/ocp/ocpmodels/models/scn/spherical_harmonics.py:21: FutureWarning: You are using `torch.load` with `weights_only=False` (the current default value), which uses the default pickle module implicitly. It is possible to construct malicious pickle data which will execute arbitrary code during unpickling (See https://github.com/pytorch/pytorch/blob/main/SECURITY.md#untrusted-models for more details). In a future release, the default value for `weights_only` will be flipped to `True`. This limits the functions that could be executed during unpickling. Arbitrary objects will no longer be allowed to be loaded via this mode unless they are explicitly allowlisted by the user via `torch.serialization.add_safe_globals`. We recommend you start setting `weights_only=True` for any use case where you don't have full control of the loaded file. Please open an issue on GitHub for any issues related to this experimental feature.\n",
      "  _Jd = torch.load(os.path.join(os.path.dirname(__file__), \"Jd.pt\"))\n"
     ]
    }
   ],
   "source": [
    "import os\n",
    "import sys\n",
    "from rdkit import Chem\n",
    "# importing sa score fro`m rdkit\n",
    "sys.path.append(os.path.join(Chem.RDConfig.RDContribDir, \"SA_Score\"))\n",
    "import sascorer\n",
    "\n",
    "from scoring.torchsa import TorchSAScore"
   ]
  },
  {
   "cell_type": "markdown",
   "id": "b63edb90",
   "metadata": {},
   "source": [
    "### Initialize ligand"
   ]
  },
  {
   "cell_type": "code",
   "execution_count": 2,
   "id": "d9a9a3de",
   "metadata": {},
   "outputs": [],
   "source": [
    "ligand = Chem.SDMolSupplier('./data/2azy_chd/2azy_A_rec_2azy_chd_lig_tt_docked_0.sdf')[0]"
   ]
  },
  {
   "cell_type": "markdown",
   "id": "689c928f",
   "metadata": {},
   "source": [
    "### Score with torchSA\n",
    "`TorchSASCore` takes in a list, so we wrap `ligand`"
   ]
  },
  {
   "cell_type": "code",
   "execution_count": 16,
   "id": "f7a94d8a",
   "metadata": {},
   "outputs": [
    {
     "data": {
      "text/plain": [
       "tensor([4.9403], device='cuda:0')"
      ]
     },
     "execution_count": 16,
     "metadata": {},
     "output_type": "execute_result"
    }
   ],
   "source": [
    "sa_scorer = TorchSAScore()\n",
    "sa_scorer.score([ligand])"
   ]
  },
  {
   "cell_type": "markdown",
   "id": "9c769346",
   "metadata": {},
   "source": [
    "### Validate with SA score from RDKit"
   ]
  },
  {
   "cell_type": "code",
   "execution_count": 17,
   "id": "5a28368a",
   "metadata": {},
   "outputs": [
    {
     "name": "stdout",
     "output_type": "stream",
     "text": [
      "SA score: 4.789\n"
     ]
    }
   ],
   "source": [
    "sa_score = sascorer.calculateScore(ligand)\n",
    "print(f\"SA score: {sa_score:.3f}\")"
   ]
  },
  {
   "cell_type": "markdown",
   "id": "f4b4a2da",
   "metadata": {},
   "source": [
    "### torchSA can score multiple ligands at once"
   ]
  },
  {
   "cell_type": "code",
   "execution_count": 18,
   "id": "d743d250",
   "metadata": {},
   "outputs": [
    {
     "data": {
      "text/plain": [
       "tensor([4.9403, 4.5188], device='cuda:0')"
      ]
     },
     "execution_count": 18,
     "metadata": {},
     "output_type": "execute_result"
    }
   ],
   "source": [
    "ligands = [Chem.SDMolSupplier('./data/2azy_chd/2azy_A_rec_2azy_chd_lig_tt_docked_0.sdf')[0],\n",
    "           Chem.SDMolSupplier('./data/3af2_gcp/3af2_A_rec_3af4_gcp_lig_tt_min_0.sdf')[0]]\n",
    "sa_scorer.score(ligands)"
   ]
  },
  {
   "cell_type": "markdown",
   "id": "9f47910e",
   "metadata": {},
   "source": [
    "### Validate with RDKit\n",
    "We are just scoring the second ligand, since we have already validated the score of the first."
   ]
  },
  {
   "cell_type": "code",
   "execution_count": 19,
   "id": "4cd193f7",
   "metadata": {},
   "outputs": [
    {
     "name": "stdout",
     "output_type": "stream",
     "text": [
      "SA score: 4.645\n"
     ]
    }
   ],
   "source": [
    "sa_score = sascorer.calculateScore(ligands[1])\n",
    "print(f\"SA score: {sa_score:.3f}\")"
   ]
  }
 ],
 "metadata": {
  "kernelspec": {
   "display_name": "idolpro-scoring_kernel",
   "language": "python",
   "name": "idolpro-scoring_kernel"
  },
  "language_info": {
   "codemirror_mode": {
    "name": "ipython",
    "version": 3
   },
   "file_extension": ".py",
   "mimetype": "text/x-python",
   "name": "python",
   "nbconvert_exporter": "python",
   "pygments_lexer": "ipython3",
   "version": "3.12.7"
  }
 },
 "nbformat": 4,
 "nbformat_minor": 5
}
